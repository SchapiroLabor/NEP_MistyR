{
 "cells": [
  {
   "cell_type": "code",
   "id": "initial_id",
   "metadata": {
    "collapsed": true,
    "ExecuteTime": {
     "end_time": "2025-02-25T12:29:20.832177Z",
     "start_time": "2025-02-25T12:29:20.538395Z"
    }
   },
   "source": [
    "# Importing libraries\n",
    "import pandas as pd\n",
    "from pathlib import Path"
   ],
   "outputs": [],
   "execution_count": 1
  },
  {
   "metadata": {
    "ExecuteTime": {
     "end_time": "2025-02-25T12:29:21.536764Z",
     "start_time": "2025-02-25T12:29:21.533330Z"
    }
   },
   "cell_type": "code",
   "source": [
    "# Defining the path to the data asymmetric folder\n",
    "data_asym_folder = Path(\"/Users/miguelibarra/PycharmProjects/MI_misty_and_symdata/data/20250217_asym01_nbh2_1000dim_grid200_300iter_50swaps\")\n",
    "ohe_asym_folder = Path(\"/Users/miguelibarra/PycharmProjects/MI_misty_and_symdata/data/20250217_asym01_nbh2_1000dim_grid200_300iter_50swaps_ohe\")\n",
    "\n",
    "# Defining the path to the data symmetric folder\n",
    "data_sym_folder = Path(\"/Users/miguelibarra/PycharmProjects/MI_misty_and_symdata/data/20250217_sym00_nbh2_1000dim_grid200_300iter_50swaps\")\n",
    "ohe_sym_folder = Path(\"/Users/miguelibarra/PycharmProjects/MI_misty_and_symdata/data/20250217_sym00_nbh2_1000dim_grid200_300iter_50swaps_ohe\")\n",
    "\n",
    "# Create ohe folder if it does not exist\n",
    "ohe_asym_folder.mkdir(exist_ok=True)\n",
    "ohe_sym_folder.mkdir(exist_ok=True)"
   ],
   "id": "92a052f8fbe6af45",
   "outputs": [],
   "execution_count": 2
  },
  {
   "metadata": {
    "ExecuteTime": {
     "end_time": "2025-02-25T12:29:22.576459Z",
     "start_time": "2025-02-25T12:29:22.569230Z"
    }
   },
   "cell_type": "code",
   "source": [
    "# Check how many files are in the folder\n",
    "print(f\"Files in asym folder {len(list(data_asym_folder.iterdir()))}\")\n",
    "print(f\"Files in sym folder {len(list(data_sym_folder.iterdir()))}\")"
   ],
   "id": "9c9687c02a71c9e2",
   "outputs": [
    {
     "name": "stdout",
     "output_type": "stream",
     "text": [
      "Files in asym folder 2401\n",
      "Files in sym folder 2400\n"
     ]
    }
   ],
   "execution_count": 3
  },
  {
   "metadata": {
    "ExecuteTime": {
     "end_time": "2025-02-25T12:29:25.649961Z",
     "start_time": "2025-02-25T12:29:25.646138Z"
    }
   },
   "cell_type": "code",
   "source": [
    "def  convert_to_ohe(data_folder, ohe_folder):\n",
    "    # Iterate over each of the files in the data folder\n",
    "    for file in data_folder.iterdir():\n",
    "        try:\n",
    "            # Read the file as a pandas dataframe\n",
    "            data = pd.read_csv(file)\n",
    "            \n",
    "            # Convert the ct column into a one-hot encoding\n",
    "            data = pd.get_dummies(data, columns=[\"ct\"], dtype=int)\n",
    "            \n",
    "            # Save the file in the ohe folder\n",
    "            data.to_csv(ohe_folder / file.name, index=False)\n",
    "        except:\n",
    "            print(f\"Error with file {file}\")    "
   ],
   "id": "f9d435e008fcd9e6",
   "outputs": [],
   "execution_count": 4
  },
  {
   "metadata": {
    "ExecuteTime": {
     "end_time": "2025-02-25T12:29:51.100526Z",
     "start_time": "2025-02-25T12:29:28.132253Z"
    }
   },
   "cell_type": "code",
   "source": [
    "# Convert the data in the data folder to one-hot encoding and save it in the ohe folder for both the asymmetric and symmetric data\n",
    "convert_to_ohe(data_asym_folder, ohe_asym_folder)\n",
    "convert_to_ohe(data_sym_folder, ohe_sym_folder)"
   ],
   "id": "bb52b74c7c74c100",
   "outputs": [
    {
     "name": "stdout",
     "output_type": "stream",
     "text": [
      "Error with file /Users/miguelibarra/PycharmProjects/MI_misty_and_symdata/data/20250217_asym01_nbh2_1000dim_grid200_300iter_50swaps/.DS_Store\n"
     ]
    }
   ],
   "execution_count": 5
  },
  {
   "metadata": {},
   "cell_type": "code",
   "outputs": [],
   "execution_count": null,
   "source": "",
   "id": "5d90531c7a9ca251"
  }
 ],
 "metadata": {
  "kernelspec": {
   "display_name": "Python 3",
   "language": "python",
   "name": "python3"
  },
  "language_info": {
   "codemirror_mode": {
    "name": "ipython",
    "version": 2
   },
   "file_extension": ".py",
   "mimetype": "text/x-python",
   "name": "python",
   "nbconvert_exporter": "python",
   "pygments_lexer": "ipython2",
   "version": "2.7.6"
  }
 },
 "nbformat": 4,
 "nbformat_minor": 5
}
