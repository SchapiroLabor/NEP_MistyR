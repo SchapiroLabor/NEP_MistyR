{
 "cells": [
  {
   "cell_type": "code",
   "id": "initial_id",
   "metadata": {
    "collapsed": true,
    "ExecuteTime": {
     "end_time": "2024-11-22T13:31:50.664138Z",
     "start_time": "2024-11-22T13:31:49.186447Z"
    }
   },
   "source": [
    "import pandas as pd\n",
    "from pathlib import Path"
   ],
   "outputs": [],
   "execution_count": 1
  },
  {
   "metadata": {
    "ExecuteTime": {
     "end_time": "2024-11-22T13:42:50.395856Z",
     "start_time": "2024-11-22T13:42:49.484073Z"
    }
   },
   "cell_type": "code",
   "source": [
    "# Read in data\n",
    "data = Path(\"./data/cell_table_final.csv\").resolve()\n",
    "data = pd.read_csv(data)\n",
    "data.head()"
   ],
   "id": "a395703612387a17",
   "outputs": [
    {
     "data": {
      "text/plain": [
       "      fov  label  cell_size    X_centroid   Y_centroid  Eccentricity  \\\n",
       "0  24h_86      1        619  23356.368336  2304.602585      0.529328   \n",
       "1  24h_86      2        727  28690.766162  2545.367263      0.821353   \n",
       "2  24h_86      3       1053  24556.710351  3095.472934      0.692851   \n",
       "3  24h_86      4        554  24589.252708  3103.557762      0.827008   \n",
       "4  24h_86      5       3219  14522.277415  4275.552656      0.492453   \n",
       "\n",
       "   Solidity    Extent  Orientation cell_meta_cluster  ... region  region_name  \\\n",
       "0  0.962675  0.764198    -0.617105       out_of_mask  ...      4   background   \n",
       "1  0.969333  0.677540    -1.067879       out_of_mask  ...      4   background   \n",
       "2  0.901541  0.716327     1.303128       out_of_mask  ...      4   background   \n",
       "3  0.819527  0.586243     0.536782       out_of_mask  ...      4   background   \n",
       "4  0.958036  0.752454    -1.437275       out_of_mask  ...      4   background   \n",
       "\n",
       "  refined_cell_type final_cell_type endocardial_annotation  \\\n",
       "0       out_of_mask         exclude                      0   \n",
       "1       out_of_mask         exclude                      0   \n",
       "2       out_of_mask         exclude                      0   \n",
       "3       out_of_mask         exclude                      0   \n",
       "4       out_of_mask         exclude                      0   \n",
       "\n",
       "   exclude_annotation  artefact  distance_from_lumen  lumen_bin  size_filter  \n",
       "0                True     False          8915.498247      112.0        False  \n",
       "1                True     False         12092.505985      152.0        False  \n",
       "2                True     False          9028.624923      113.0        False  \n",
       "3                True     False          9041.523157      114.0        False  \n",
       "4                True     False          5593.401291       70.0        False  \n",
       "\n",
       "[5 rows x 21 columns]"
      ],
      "text/html": [
       "<div>\n",
       "<style scoped>\n",
       "    .dataframe tbody tr th:only-of-type {\n",
       "        vertical-align: middle;\n",
       "    }\n",
       "\n",
       "    .dataframe tbody tr th {\n",
       "        vertical-align: top;\n",
       "    }\n",
       "\n",
       "    .dataframe thead th {\n",
       "        text-align: right;\n",
       "    }\n",
       "</style>\n",
       "<table border=\"1\" class=\"dataframe\">\n",
       "  <thead>\n",
       "    <tr style=\"text-align: right;\">\n",
       "      <th></th>\n",
       "      <th>fov</th>\n",
       "      <th>label</th>\n",
       "      <th>cell_size</th>\n",
       "      <th>X_centroid</th>\n",
       "      <th>Y_centroid</th>\n",
       "      <th>Eccentricity</th>\n",
       "      <th>Solidity</th>\n",
       "      <th>Extent</th>\n",
       "      <th>Orientation</th>\n",
       "      <th>cell_meta_cluster</th>\n",
       "      <th>...</th>\n",
       "      <th>region</th>\n",
       "      <th>region_name</th>\n",
       "      <th>refined_cell_type</th>\n",
       "      <th>final_cell_type</th>\n",
       "      <th>endocardial_annotation</th>\n",
       "      <th>exclude_annotation</th>\n",
       "      <th>artefact</th>\n",
       "      <th>distance_from_lumen</th>\n",
       "      <th>lumen_bin</th>\n",
       "      <th>size_filter</th>\n",
       "    </tr>\n",
       "  </thead>\n",
       "  <tbody>\n",
       "    <tr>\n",
       "      <th>0</th>\n",
       "      <td>24h_86</td>\n",
       "      <td>1</td>\n",
       "      <td>619</td>\n",
       "      <td>23356.368336</td>\n",
       "      <td>2304.602585</td>\n",
       "      <td>0.529328</td>\n",
       "      <td>0.962675</td>\n",
       "      <td>0.764198</td>\n",
       "      <td>-0.617105</td>\n",
       "      <td>out_of_mask</td>\n",
       "      <td>...</td>\n",
       "      <td>4</td>\n",
       "      <td>background</td>\n",
       "      <td>out_of_mask</td>\n",
       "      <td>exclude</td>\n",
       "      <td>0</td>\n",
       "      <td>True</td>\n",
       "      <td>False</td>\n",
       "      <td>8915.498247</td>\n",
       "      <td>112.0</td>\n",
       "      <td>False</td>\n",
       "    </tr>\n",
       "    <tr>\n",
       "      <th>1</th>\n",
       "      <td>24h_86</td>\n",
       "      <td>2</td>\n",
       "      <td>727</td>\n",
       "      <td>28690.766162</td>\n",
       "      <td>2545.367263</td>\n",
       "      <td>0.821353</td>\n",
       "      <td>0.969333</td>\n",
       "      <td>0.677540</td>\n",
       "      <td>-1.067879</td>\n",
       "      <td>out_of_mask</td>\n",
       "      <td>...</td>\n",
       "      <td>4</td>\n",
       "      <td>background</td>\n",
       "      <td>out_of_mask</td>\n",
       "      <td>exclude</td>\n",
       "      <td>0</td>\n",
       "      <td>True</td>\n",
       "      <td>False</td>\n",
       "      <td>12092.505985</td>\n",
       "      <td>152.0</td>\n",
       "      <td>False</td>\n",
       "    </tr>\n",
       "    <tr>\n",
       "      <th>2</th>\n",
       "      <td>24h_86</td>\n",
       "      <td>3</td>\n",
       "      <td>1053</td>\n",
       "      <td>24556.710351</td>\n",
       "      <td>3095.472934</td>\n",
       "      <td>0.692851</td>\n",
       "      <td>0.901541</td>\n",
       "      <td>0.716327</td>\n",
       "      <td>1.303128</td>\n",
       "      <td>out_of_mask</td>\n",
       "      <td>...</td>\n",
       "      <td>4</td>\n",
       "      <td>background</td>\n",
       "      <td>out_of_mask</td>\n",
       "      <td>exclude</td>\n",
       "      <td>0</td>\n",
       "      <td>True</td>\n",
       "      <td>False</td>\n",
       "      <td>9028.624923</td>\n",
       "      <td>113.0</td>\n",
       "      <td>False</td>\n",
       "    </tr>\n",
       "    <tr>\n",
       "      <th>3</th>\n",
       "      <td>24h_86</td>\n",
       "      <td>4</td>\n",
       "      <td>554</td>\n",
       "      <td>24589.252708</td>\n",
       "      <td>3103.557762</td>\n",
       "      <td>0.827008</td>\n",
       "      <td>0.819527</td>\n",
       "      <td>0.586243</td>\n",
       "      <td>0.536782</td>\n",
       "      <td>out_of_mask</td>\n",
       "      <td>...</td>\n",
       "      <td>4</td>\n",
       "      <td>background</td>\n",
       "      <td>out_of_mask</td>\n",
       "      <td>exclude</td>\n",
       "      <td>0</td>\n",
       "      <td>True</td>\n",
       "      <td>False</td>\n",
       "      <td>9041.523157</td>\n",
       "      <td>114.0</td>\n",
       "      <td>False</td>\n",
       "    </tr>\n",
       "    <tr>\n",
       "      <th>4</th>\n",
       "      <td>24h_86</td>\n",
       "      <td>5</td>\n",
       "      <td>3219</td>\n",
       "      <td>14522.277415</td>\n",
       "      <td>4275.552656</td>\n",
       "      <td>0.492453</td>\n",
       "      <td>0.958036</td>\n",
       "      <td>0.752454</td>\n",
       "      <td>-1.437275</td>\n",
       "      <td>out_of_mask</td>\n",
       "      <td>...</td>\n",
       "      <td>4</td>\n",
       "      <td>background</td>\n",
       "      <td>out_of_mask</td>\n",
       "      <td>exclude</td>\n",
       "      <td>0</td>\n",
       "      <td>True</td>\n",
       "      <td>False</td>\n",
       "      <td>5593.401291</td>\n",
       "      <td>70.0</td>\n",
       "      <td>False</td>\n",
       "    </tr>\n",
       "  </tbody>\n",
       "</table>\n",
       "<p>5 rows × 21 columns</p>\n",
       "</div>"
      ]
     },
     "execution_count": 10,
     "metadata": {},
     "output_type": "execute_result"
    }
   ],
   "execution_count": 10
  },
  {
   "metadata": {
    "ExecuteTime": {
     "end_time": "2024-11-22T13:42:50.452848Z",
     "start_time": "2024-11-22T13:42:50.421352Z"
    }
   },
   "cell_type": "code",
   "source": [
    "# How many FOVs do we have\n",
    "print(f\"We have {data['fov'].nunique()} FOVs\")\n",
    "print(data[\"fov\"].unique())"
   ],
   "id": "826e83ae6e43290e",
   "outputs": [
    {
     "name": "stdout",
     "output_type": "stream",
     "text": [
      "We have 9 FOVs\n",
      "['24h_86' '24h_83' 'Control_13' 'Control_12' '4h_97' '4h_96' '48h_79'\n",
      " '48h_76' 'Control_14']\n"
     ]
    }
   ],
   "execution_count": 11
  },
  {
   "metadata": {
    "ExecuteTime": {
     "end_time": "2024-11-22T13:46:55.202426Z",
     "start_time": "2024-11-22T13:46:55.199560Z"
    }
   },
   "cell_type": "code",
   "source": [
    "# Show columns\n",
    "data.columns"
   ],
   "id": "3bc8dcbd43cadfa3",
   "outputs": [
    {
     "data": {
      "text/plain": [
       "Index(['fov', 'label', 'cell_size', 'X_centroid', 'Y_centroid', 'Eccentricity',\n",
       "       'Solidity', 'Extent', 'Orientation', 'cell_meta_cluster', 'timepoint',\n",
       "       'region', 'region_name', 'refined_cell_type', 'final_cell_type',\n",
       "       'endocardial_annotation', 'exclude_annotation', 'artefact',\n",
       "       'distance_from_lumen', 'lumen_bin', 'size_filter'],\n",
       "      dtype='object')"
      ]
     },
     "execution_count": 16,
     "metadata": {},
     "output_type": "execute_result"
    }
   ],
   "execution_count": 16
  },
  {
   "metadata": {
    "ExecuteTime": {
     "end_time": "2024-11-22T13:42:50.554390Z",
     "start_time": "2024-11-22T13:42:50.532134Z"
    }
   },
   "cell_type": "code",
   "source": [
    "# Show columns\n",
    "data[\"final_cell_type\"].unique()"
   ],
   "id": "4aca6db7d54aeaa3",
   "outputs": [
    {
     "data": {
      "text/plain": [
       "array(['exclude', 'Fibroblasts', 'Mono / Macros Ccr2+', 'Cardiomyocytes',\n",
       "       'Neutrophils', 'Cardiomyocytes Ankrd1+', 'Endothelial cells',\n",
       "       'Macrophages Trem2+', 'Smooth muscle cells', 'Macrophages Trem2-',\n",
       "       'Other Leukocytes', 'Endocardial cells'], dtype=object)"
      ]
     },
     "execution_count": 12,
     "metadata": {},
     "output_type": "execute_result"
    }
   ],
   "execution_count": 12
  },
  {
   "metadata": {
    "ExecuteTime": {
     "end_time": "2024-11-22T13:42:50.753317Z",
     "start_time": "2024-11-22T13:42:50.706795Z"
    }
   },
   "cell_type": "code",
   "source": [
    "# We need to exclude entries ['out_of_mask', 'background']  from refined_cell type and ['background', 'ignore', 'lumen']  from region_name\n",
    "print(data.shape)\n",
    "data = data[~data[\"final_cell_type\"].isin(['exclude'])]\n",
    "print(data.shape)\n",
    "# data = data[~data[\"region_name\"].isin(['background', 'ignore', 'lumen'])]\n",
    "# print(data.shape)"
   ],
   "id": "3acb9c06606a2b24",
   "outputs": [
    {
     "name": "stdout",
     "output_type": "stream",
     "text": [
      "(628365, 21)\n",
      "(563180, 21)\n"
     ]
    }
   ],
   "execution_count": 13
  },
  {
   "metadata": {
    "ExecuteTime": {
     "end_time": "2024-11-22T13:58:22.563402Z",
     "start_time": "2024-11-22T13:58:17.660211Z"
    }
   },
   "cell_type": "code",
   "source": [
    "# Iterate per FOV\n",
    "for i, d in data.groupby(\"fov\"):\n",
    "    # Convert the refined_cell_type column to a one hot encoding\n",
    "    ohe = pd.get_dummies(d, columns=[\"final_cell_type\"], dtype=int)\n",
    "    \n",
    "    # Save the one hot encoding to a file\n",
    "    ohe.to_csv(f\"./data/ohe/{i}.csv\", index=False)\n",
    "# Read in the one hot encoded data"
   ],
   "id": "b210be369935ff85",
   "outputs": [],
   "execution_count": 17
  },
  {
   "metadata": {},
   "cell_type": "code",
   "outputs": [],
   "execution_count": null,
   "source": "",
   "id": "961cd0ae86455d17"
  }
 ],
 "metadata": {
  "kernelspec": {
   "display_name": "Python 3",
   "language": "python",
   "name": "python3"
  },
  "language_info": {
   "codemirror_mode": {
    "name": "ipython",
    "version": 2
   },
   "file_extension": ".py",
   "mimetype": "text/x-python",
   "name": "python",
   "nbconvert_exporter": "python",
   "pygments_lexer": "ipython2",
   "version": "2.7.6"
  }
 },
 "nbformat": 4,
 "nbformat_minor": 5
}
